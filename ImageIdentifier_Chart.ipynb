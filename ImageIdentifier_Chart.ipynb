{
  "nbformat": 4,
  "nbformat_minor": 0,
  "metadata": {
    "colab": {
      "name": "ImageIdentifier_Chart.ipynb",
      "provenance": [],
      "authorship_tag": "ABX9TyPPgy0mTXxn1/FIjnjRXGGo",
      "include_colab_link": true
    },
    "kernelspec": {
      "name": "python3",
      "display_name": "Python 3"
    },
    "language_info": {
      "name": "python"
    }
  },
  "cells": [
    {
      "cell_type": "markdown",
      "metadata": {
        "id": "view-in-github",
        "colab_type": "text"
      },
      "source": [
        "<a href=\"https://colab.research.google.com/github/Seneli/ML-Intro-Tutorials/blob/main/ImageIdentifier_Chart.ipynb\" target=\"_parent\"><img src=\"https://colab.research.google.com/assets/colab-badge.svg\" alt=\"Open In Colab\"/></a>"
      ]
    },
    {
      "cell_type": "code",
      "metadata": {
        "id": "D5I98wldeo4L"
      },
      "source": [
        "from tensorflow.keras.preprocessing.image import ImageDataGenerator\n",
        "from tensorflow.keras.applications.mobilenet import preprocess_input\n",
        "\n",
        "train_data_generator = ImageDataGenerator(preprocessing_function=preprocess_input)\n",
        "train_generator = train_data_generator.flow_from_directory(\"../smallData/train\",\n",
        "                                                           batch_size=32,\n",
        "                                                           target_size=(100,100))"
      ],
      "execution_count": null,
      "outputs": []
    },
    {
      "cell_type": "code",
      "metadata": {
        "id": "jaFuU4M8etAV"
      },
      "source": [
        "from tensorflow.keras.models import Sequential\n",
        "from tensorflow.keras.layers import Dense, Flatten\n",
        "from tensorflow.nn import relu,softmax\n",
        "from tensorflow.keras.optimizers import SGD\n",
        "model = Sequential()\n",
        "model.add(Flatten(input_shape=(100,100,3))\n",
        "model.add(Dense(1024,activation=relu))\n",
        "model.add(Dense(512,activation=relu))\n",
        "model.add(Dense(2,activation=softmax))\n",
        "\n",
        "model.compile(optimizer=SGD(),\n",
        "             loss='categorical_crossentropy',\n",
        "             metrics=['accuracy'])"
      ],
      "execution_count": null,
      "outputs": []
    },
    {
      "cell_type": "code",
      "metadata": {
        "id": "c-Vrb4loetq9"
      },
      "source": [
        "model.summary()"
      ],
      "execution_count": null,
      "outputs": []
    },
    {
      "cell_type": "code",
      "metadata": {
        "id": "emEgy6_2exAo"
      },
      "source": [
        "model.fit_generator(generator=train_generator,epochs=500)"
      ],
      "execution_count": null,
      "outputs": []
    }
  ]
}